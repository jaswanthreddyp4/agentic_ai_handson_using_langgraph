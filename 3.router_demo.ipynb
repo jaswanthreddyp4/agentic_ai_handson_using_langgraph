{
 "cells": [
  {
   "cell_type": "markdown",
   "metadata": {},
   "source": [
    "## Let's extend our graph to work with either output!\n",
    "\n",
    "### For this, we can use two ideas:\n",
    "\n",
    "1. Add a node that will call our tool.\n",
    "\n",
    "2. Add a conditional edge that will look at the chat model output, and route to our tool calling node or simply end if no tool call is performed."
   ]
  },
  {
   "cell_type": "code",
   "execution_count": null,
   "metadata": {},
   "outputs": [],
   "source": [
    "from langchain_ibm import ChatWatsonx, WatsonxLLM\n",
    "from ibm_watson_machine_learning.metanames import GenTextParamsMetaNames as GenParams\n",
    "\n",
    "credentials = {\n",
    "    \"url\": \"https://us-south.ml.cloud.ibm.com\",\n",
    "    \"apikey\": \"api key\"\n",
    "}\n",
    "\n",
    "project_id = \"project_id\"\n",
    "api_key = credentials.get(\"apikey\")\n",
    "project_url = credentials.get(\"url\")"
   ]
  },
  {
   "cell_type": "markdown",
   "metadata": {},
   "source": [
    "crdentials may vary , since i have access to granite model , im using it , depending on LLM u use credentials may vary , like open ai models need only open api key"
   ]
  },
  {
   "cell_type": "code",
   "execution_count": 22,
   "metadata": {},
   "outputs": [],
   "source": [
    "llm = ChatWatsonx(\n",
    "    model_id=\"ibm/granite-3-2-8b-instruct\", \n",
    "    url=credentials.get(\"url\"),\n",
    "    apikey=credentials.get(\"apikey\"),\n",
    "    project_id=project_id,\n",
    "    params={\n",
    "        GenParams.DECODING_METHOD: \"sample\",\n",
    "        GenParams.TEMPERATURE: 0.7\n",
    "    },\n",
    ")"
   ]
  },
  {
   "cell_type": "code",
   "execution_count": 23,
   "metadata": {},
   "outputs": [],
   "source": [
    "def multiply(a:int , b:int):\n",
    "    return a*b"
   ]
  },
  {
   "cell_type": "code",
   "execution_count": 31,
   "metadata": {},
   "outputs": [],
   "source": [
    "llm_with_tools=llm.bind_tools([multiply])"
   ]
  },
  {
   "cell_type": "code",
   "execution_count": 32,
   "metadata": {},
   "outputs": [],
   "source": [
    "from langchain_core.runnables import RunnableLambda\n",
    "from langchain_core.messages import AIMessage\n",
    "from langgraph.graph import MessagesState\n",
    "\n",
    "def custom_tool_node(state: MessagesState):\n",
    "    messages = state[\"messages\"]\n",
    "    last_message = messages[-1]\n",
    "    \n",
    "    if isinstance(last_message, AIMessage) and last_message.tool_calls:\n",
    "        tool_call = last_message.tool_calls[0]\n",
    "        tool_name = tool_call[\"name\"]\n",
    "        args = tool_call[\"args\"]\n",
    "        \n",
    "        if tool_name == \"multiply\":\n",
    "            result = multiply(**args)\n",
    "            return {\"messages\": [AIMessage(content=str(result))]}\n",
    "    return state"
   ]
  },
  {
   "cell_type": "code",
   "execution_count": 33,
   "metadata": {},
   "outputs": [],
   "source": [
    "from langgraph.graph import END\n",
    "from langchain_core.messages import AIMessage\n",
    "\n",
    "def custom_tools_condition(state: MessagesState) -> str:\n",
    "    messages = state[\"messages\"]\n",
    "    last_message = messages[-1]\n",
    "    \n",
    "    if isinstance(last_message, AIMessage) and last_message.tool_calls:\n",
    "        return \"tools\"  # Route to the tools node if a tool call is detected\n",
    "    return END  # Otherwise, end the workflow"
   ]
  },
  {
   "cell_type": "markdown",
   "metadata": {},
   "source": [
    "### Dont think about 2 functions , even i took them from GPT because in earlier versions of langgraph , those wre present in langgraph.prebuilt library but now it seems its deprecated , so just understand the purpose of using these 2 funcitons"
   ]
  },
  {
   "cell_type": "markdown",
   "metadata": {},
   "source": [
    "### We use built-in ToolNode and we can pass our tools as list so that a node now has list of tools\n",
    "### We use built-in tools_condition as our conditional edge"
   ]
  },
  {
   "cell_type": "code",
   "execution_count": 34,
   "metadata": {},
   "outputs": [
    {
     "data": {
      "image/png": "[encoded data removed]",
      "text/plain": [
       "<IPython.core.display.Image object>"
      ]
     },
     "metadata": {},
     "output_type": "display_data"
    }
   ],
   "source": [
    "from IPython.display import Image\n",
    "from langgraph.graph import StateGraph,START,END\n",
    "from langgraph.graph import MessagesState\n",
    "\n",
    "\n",
    "def tool_calling_llm(state:MessagesState):\n",
    "    return {\"messages\" : [llm_with_tools.invoke(state[\"messages\"])]}\n",
    "\n",
    "builder=StateGraph(MessagesState)\n",
    "\n",
    "builder.add_node(\"tool_invoking_llm\",tool_calling_llm)\n",
    "builder.add_node(\"tools\",custom_tool_node)\n",
    "\n",
    "builder.add_edge(START,\"tool_invoking_llm\")\n",
    "builder.add_conditional_edges(\n",
    "    \"tool_invoking_llm\",\n",
    "    #if latest message from assistant is a tool call , tools_condition routes to tools else END\n",
    "    custom_tools_condition,\n",
    ")\n",
    "builder.add_edge(\"tools\",END)\n",
    "\n",
    "graph=builder.compile()\n",
    "\n",
    "display(Image(graph.get_graph().draw_mermaid_png()))\n",
    "\n"
   ]
  },
  {
   "cell_type": "code",
   "execution_count": 35,
   "metadata": {},
   "outputs": [
    {
     "data": {
      "text/plain": [
       "{'messages': [HumanMessage(content='multiply 5 and 3', additional_kwargs={}, response_metadata={}, id='273242b2-3a75-4564-9065-cff969078ce2'),\n",
       "  AIMessage(content='', additional_kwargs={'tool_calls': [{'id': 'chatcmpl-tool-01bdace9a7864520baff364c2679905d', 'type': 'function', 'function': {'name': 'multiply', 'arguments': '{\"a\": 5, \"b\": 3}'}}]}, response_metadata={'token_usage': {'completion_tokens': 27, 'prompt_tokens': 227, 'total_tokens': 254}, 'model_name': 'ibm/granite-3-2-8b-instruct', 'system_fingerprint': '', 'finish_reason': 'tool_calls'}, id='chatcmpl-84854649dd271b6b75781d63a20193d3', tool_calls=[{'name': 'multiply', 'args': {'a': 5, 'b': 3}, 'id': 'chatcmpl-tool-01bdace9a7864520baff364c2679905d', 'type': 'tool_call'}], usage_metadata={'input_tokens': 227, 'output_tokens': 27, 'total_tokens': 254}),\n",
       "  AIMessage(content='15', additional_kwargs={}, response_metadata={}, id='4d035e36-9a7b-43ee-bdc5-406d16434525')]}"
      ]
     },
     "execution_count": 35,
     "metadata": {},
     "output_type": "execute_result"
    }
   ],
   "source": [
    "import pprint\n",
    "from langchain_core.messages import AIMessage, HumanMessage\n",
    "message=graph.invoke({\"messages\":HumanMessage(content=\"multiply 5 and 3\")})\n",
    "message"
   ]
  },
  {
   "cell_type": "code",
   "execution_count": 36,
   "metadata": {},
   "outputs": [
    {
     "data": {
      "text/plain": [
       "{'messages': [HumanMessage(content='what is answer when 22 divided by 3', additional_kwargs={}, response_metadata={}, id='d3d99e92-b00a-4e10-b127-e9684ba4a38b'),\n",
       "  AIMessage(content='', additional_kwargs={}, response_metadata={'token_usage': {'completion_tokens': 6, 'prompt_tokens': 232, 'total_tokens': 238}, 'model_name': 'ibm/granite-3-2-8b-instruct', 'system_fingerprint': '', 'finish_reason': 'tool_calls'}, id='chatcmpl-babfc1e2706572172b676568157a6399', usage_metadata={'input_tokens': 232, 'output_tokens': 6, 'total_tokens': 238})]}"
      ]
     },
     "execution_count": 36,
     "metadata": {},
     "output_type": "execute_result"
    }
   ],
   "source": [
    "message=graph.invoke({\"messages\":HumanMessage(content=\"what is answer when 22 divided by 3\")})\n",
    "message"
   ]
  },
  {
   "cell_type": "markdown",
   "metadata": {},
   "source": [
    "### Yayy!\n",
    "### we are able to acheive that our LLM uses tool for questions where its needed to use tool , for general questions which can be answered by LLM knowledge , our LLM is not using tools\n",
    "### we are going good , lets gooo!"
   ]
  }
 ],
 "metadata": {
  "kernelspec": {
   "display_name": "Python 3",
   "language": "python",
   "name": "python3"
  },
  "language_info": {
   "codemirror_mode": {
    "name": "ipython",
    "version": 3
   },
   "file_extension": ".py",
   "mimetype": "text/x-python",
   "name": "python",
   "nbconvert_exporter": "python",
   "pygments_lexer": "ipython3",
   "version": "3.12.8"
  }
 },
 "nbformat": 4,
 "nbformat_minor": 2
}
