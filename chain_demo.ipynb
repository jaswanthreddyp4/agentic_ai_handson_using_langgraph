{
 "cells": [
  {
   "cell_type": "markdown",
   "metadata": {},
   "source": [
    "## Chain\n",
    " we will build a chain that will combine few core concepts"
   ]
  },
  {
   "cell_type": "markdown",
   "metadata": {},
   "source": [
    "## Goals\n",
    "### lets make a simple chain that combines 4 key components\n",
    " 1. using chat messages in our graph\n",
    " 2. using chat models\n",
    " 3. binding tools to our LLM\n",
    " 4. executing tool calls in our graph"
   ]
  },
  {
   "cell_type": "code",
   "execution_count": 1,
   "metadata": {},
   "outputs": [
    {
     "name": "stdout",
     "output_type": "stream",
     "text": [
      "Note: you may need to restart the kernel to use updated packages.\n"
     ]
    }
   ],
   "source": [
    "%pip install --quiet langchain_ibm ibm-watson-machine-learning langchain_core"
   ]
  },
  {
   "cell_type": "markdown",
   "metadata": {},
   "source": [
    "## Messages\n",
    "### chat models can use \"messages\" , which captures different roles within a convo(say role might be human , model)\n",
    "### Langchain supports various message types , including \"HumanMessage\",\"AIMessage\",\"SystemMessage\", and \"ToolMessage\"\n",
    "### These represents a message from the user, chat model,for chat model to instruct behaviour,and from a tool call\n",
    "### lets create a list of messages , each ,essage can be supplied with few things:\n",
    " 1. \"content\"-content of message\n",
    " 2. \"name\"-who is creating message(model/human..etc)\n",
    " 3. \"response_metadata\"-dict of metadata that is specific to each model provider\n"
   ]
  },
  {
   "cell_type": "code",
   "execution_count": 3,
   "metadata": {},
   "outputs": [
    {
     "name": "stdout",
     "output_type": "stream",
     "text": [
      "==================================\u001b[1m Ai Message \u001b[0m==================================\n",
      "Name: Model\n",
      "\n",
      "So you said you were researching ocean spring framework?\n",
      "================================\u001b[1m Human Message \u001b[0m=================================\n",
      "Name: jas\n",
      "\n",
      "Yes, that's right.\n",
      "==================================\u001b[1m Ai Message \u001b[0m==================================\n",
      "Name: Model\n",
      "\n",
      "Great, what would you like to learn about.\n",
      "================================\u001b[1m Human Message \u001b[0m=================================\n",
      "Name: jas\n",
      "\n",
      "I want to learn about dependency injection and circular dependency in particular\n"
     ]
    }
   ],
   "source": [
    "from pprint import pprint\n",
    "from langchain_core.messages import AIMessage, HumanMessage, SystemMessage\n",
    "\n",
    "messages = [AIMessage(content=f\"So you said you were researching ocean spring framework?\", name=\"Model\")]\n",
    "messages.extend([HumanMessage(content=f\"Yes, that's right.\", name=\"jas\")])\n",
    "messages.extend([AIMessage(content=f\"Great, what would you like to learn about.\", name=\"Model\")])\n",
    "messages.extend([HumanMessage(content=f\"I want to learn about dependency injection and circular dependency in particular\", name=\"jas\")])\n",
    "\n",
    "for m in messages:\n",
    "    m.pretty_print()\n"
   ]
  },
  {
   "cell_type": "markdown",
   "metadata": {},
   "source": [
    "## Chat Models\n",
    "\n",
    "[Chat models](https://platform.openai.com/docs/guides/gpt) can use a sequence of message as input and support message roles, as discussed above.\n",
    "\n",
    "There are many to choose from!\n",
    "\n",
    "I am using model from watsonX platform(since i have access) , you can try using any model of your wish\n",
    "\n"
   ]
  },
  {
   "cell_type": "code",
   "execution_count": 4,
   "metadata": {},
   "outputs": [],
   "source": [
    "from langchain_ibm import ChatWatsonx, WatsonxLLM\n",
    "from ibm_watson_machine_learning.metanames import GenTextParamsMetaNames as GenParams\n",
    "\n",
    "credentials = {\n",
    "    \"url\": \"https://us-south.ml.cloud.ibm.com\",\n",
    "    \"apikey\": \"LFzc1O7mM0I_Tz2pJmkKjFt-zyYL_U3JLnAjq5MTzay4\"\n",
    "}\n",
    "\n",
    "project_id = \"4af85c47-e2f4-4ffc-af1e-6d8fba82349e\"\n",
    "api_key = credentials.get(\"apikey\")\n",
    "project_url = credentials.get(\"url\")"
   ]
  },
  {
   "cell_type": "markdown",
   "metadata": {},
   "source": [
    "### configure LLM"
   ]
  },
  {
   "cell_type": "code",
   "execution_count": 5,
   "metadata": {},
   "outputs": [],
   "source": [
    "llm = ChatWatsonx(\n",
    "    model_id=\"ibm/granite-3-2-8b-instruct\", \n",
    "    url=credentials.get(\"url\"),\n",
    "    apikey=credentials.get(\"apikey\"),\n",
    "    project_id=project_id,\n",
    "    params={\n",
    "        GenParams.DECODING_METHOD: \"sample\",\n",
    "        GenParams.TEMPERATURE: 0.7\n",
    "    },\n",
    ")"
   ]
  },
  {
   "cell_type": "code",
   "execution_count": 6,
   "metadata": {},
   "outputs": [
    {
     "data": {
      "text/plain": [
       "langchain_core.messages.ai.AIMessage"
      ]
     },
     "execution_count": 6,
     "metadata": {},
     "output_type": "execute_result"
    }
   ],
   "source": [
    "result=llm.invoke(messages)\n",
    "type(result)"
   ]
  },
  {
   "cell_type": "markdown",
   "metadata": {},
   "source": [
    "### We gave chat messages , now our chat model goes through this chat message conversation depending on role and answer the user query with help of context from messages"
   ]
  },
  {
   "cell_type": "code",
   "execution_count": 8,
   "metadata": {},
   "outputs": [
    {
     "name": "stdout",
     "output_type": "stream",
     "text": [
      "AIMessage(content=\"Sure, I'd be happy to explain these concepts in the context of Ocean Spring Framework.\\n\\n1. **Dependency Injection (DI):**\\n\\nDependency Injection is a design pattern that allows us to eliminate hard-coded dependencies and make our applications loosely coupled, extendable, and maintainable. In Ocean Spring Framework, DI is achieved using the `@Inject` annotation.\\n\\nHere's a simple example:\\n\\n```java\\npublic class ServiceA {\\n    private final ServiceB serviceB;\\n\\n    @Inject\\n    public ServiceA(ServiceB serviceB) {\\n        this.serviceB = serviceB;\\n    }\\n\\n    // ...\\n}\\n\\npublic class ServiceB {\\n    // ...\\n}\\n```\\n\\nIn this example, `ServiceA` depends on `ServiceB`. Instead of creating an instance of `ServiceB` within `ServiceA`, we inject it through its constructor. This way, we can easily swap implementations of `ServiceB` without changing the code in `ServiceA`.\\n\\n2. **Circular Dependency:**\\n\\nCircular dependency occurs when two or more classes depend on each other, either directly or indirectly. This situation is generally considered to be a code smell and can lead to various issues, such as difficulty in testing, increased coupling, and runtime errors.\\n\\nHere's an example of circular dependency:\\n\\n```java\\npublic class ServiceA {\\n    private final ServiceB serviceB;\\n\\n    @Inject\\n    public ServiceA(ServiceB serviceB) {\\n        this.serviceB = serviceB;\\n    }\\n\\n    public void doSomething() {\\n        serviceB.doSomethingElse();\\n    }\\n}\\n\\npublic class ServiceB {\\n    private final ServiceA serviceA;\\n\\n    @Inject\\n    public ServiceB(ServiceA serviceA) {\\n        this.serviceA = serviceA;\\n    }\\n\\n    public void doSomethingElse() {\\n        serviceA.doSomething();\\n    }\\n}\\n```\\n\\nIn this case, `ServiceA` depends on `ServiceB`, and `ServiceB` depends on `ServiceA`. This creates a circular dependency.\\n\\n**Handling Circular Dependencies:**\\n\\nOcean Spring Framework provides several ways to handle circular dependencies:\\n\\n- **Use Interfaces:** You can introduce interfaces and inject the interfaces instead of the concrete classes. This way, the circular dependency is broken because the classes are not dependent on each other's concrete implementations.\\n\\n- **Use Provider Classes:** You can create a provider class that manages the creation and lifecycle of the objects with circular dependencies.\\n\\n- **Use Qualifiers:** If the circular dependency is due to having two beans with the same type, you can use qualifiers to distinguish between them.\\n\\n- **Use @Lazy:** The `@Lazy` annotation can be used to delay the creation of a bean until it is actually needed, which can help in resolving circular dependencies in some cases.\\n\\nRemember, while circular dependencies can sometimes be unavoidable, they should be used sparingly and only when absolutely necessary. Always strive for loose coupling and high cohesion in your design.\", additional_kwargs={}, response_metadata={'token_usage': {'completion_tokens': 644, 'prompt_tokens': 115, 'total_tokens': 759}, 'model_name': 'ibm/granite-3-2-8b-instruct', 'system_fingerprint': '', 'finish_reason': 'stop'}, id='chatcmpl-f1b90d0cd9251da572468a5f1864fc54', usage_metadata={'input_tokens': 115, 'output_tokens': 644, 'total_tokens': 759})\n"
     ]
    }
   ],
   "source": [
    "pprint(result)"
   ]
  },
  {
   "cell_type": "code",
   "execution_count": 9,
   "metadata": {},
   "outputs": [
    {
     "data": {
      "text/plain": [
       "{'token_usage': {'completion_tokens': 644,\n",
       "  'prompt_tokens': 115,\n",
       "  'total_tokens': 759},\n",
       " 'model_name': 'ibm/granite-3-2-8b-instruct',\n",
       " 'system_fingerprint': '',\n",
       " 'finish_reason': 'stop'}"
      ]
     },
     "execution_count": 9,
     "metadata": {},
     "output_type": "execute_result"
    }
   ],
   "source": [
    "result.response_metadata"
   ]
  },
  {
   "cell_type": "markdown",
   "metadata": {},
   "source": [
    "## Tools\n",
    "### In simple terms , Tools are python functions binded with agents , which are called by agents , if reasoning process demands to , in order to get the best output for the user prompt\n",
    "\n",
    "Lets define a simple function that returns multiplication of 2 numbers when 2 numbers are passed as parameters"
   ]
  },
  {
   "cell_type": "code",
   "execution_count": 10,
   "metadata": {},
   "outputs": [],
   "source": [
    "def multiply(a:int , b:int):\n",
    "    return a*b"
   ]
  },
  {
   "cell_type": "markdown",
   "metadata": {},
   "source": [
    "### Let's bind multiply tool with llm which we configured above"
   ]
  },
  {
   "cell_type": "code",
   "execution_count": 11,
   "metadata": {},
   "outputs": [],
   "source": [
    "llm_with_tools=llm.bind_tools([multiply])"
   ]
  },
  {
   "cell_type": "markdown",
   "metadata": {},
   "source": [
    "Let's query llm and see if it uses available tool"
   ]
  },
  {
   "cell_type": "code",
   "execution_count": 12,
   "metadata": {},
   "outputs": [
    {
     "data": {
      "text/plain": [
       "AIMessage(content='', additional_kwargs={'tool_calls': [{'id': 'chatcmpl-tool-7a7e4ed09e454f37ae5e1f76563c355f', 'type': 'function', 'function': {'name': 'multiply', 'arguments': '{\"a\": 2, \"b\": 3}'}}]}, response_metadata={'token_usage': {'completion_tokens': 27, 'prompt_tokens': 230, 'total_tokens': 257}, 'model_name': 'ibm/granite-3-2-8b-instruct', 'system_fingerprint': '', 'finish_reason': 'tool_calls'}, id='chatcmpl-4bf7339be529a9bd5f12c0512f158fe4', tool_calls=[{'name': 'multiply', 'args': {'a': 2, 'b': 3}, 'id': 'chatcmpl-tool-7a7e4ed09e454f37ae5e1f76563c355f', 'type': 'tool_call'}], usage_metadata={'input_tokens': 230, 'output_tokens': 27, 'total_tokens': 257})"
      ]
     },
     "execution_count": 12,
     "metadata": {},
     "output_type": "execute_result"
    }
   ],
   "source": [
    "tool_call=llm_with_tools.invoke([HumanMessage(content=\"what is 2 multiplied by 3\",name=\"jas\")])\n",
    "tool_call"
   ]
  },
  {
   "cell_type": "markdown",
   "metadata": {},
   "source": [
    "### Using messages as graph state\n",
    "\n",
    " 1. lets define our state MessageState\n",
    " 2. lets keep messages as list of messages"
   ]
  },
  {
   "cell_type": "code",
   "execution_count": 15,
   "metadata": {},
   "outputs": [],
   "source": [
    "from typing import TypedDict\n",
    "from langchain_core.messages import AnyMessage\n",
    "\n",
    "class MessagesState(TypedDict):\n",
    "    messages:list[AnyMessage]"
   ]
  },
  {
   "cell_type": "markdown",
   "metadata": {},
   "source": [
    "# Reducers\n",
    "\n",
    "Now, we have a minor problem!\n",
    "\n",
    "As our graph runs, we want to append messages to our `messages` state key.\n",
    "\n",
    "But, as we discussed, each node [will also override](#) the prior state value.\n",
    "\n",
    "[Reducer functions](#) address this.\n",
    "\n",
    "They allow us to specify how state updates are performed.\n",
    "\n",
    "If no reducer function is explicitly specified, then it is assumed that all updates to that key should *override it*.\n",
    "\n",
    "Since we want to append messages, we can use a pre-built `add_messages` reducer!\n",
    "\n",
    "This ensures that state updates you send to the graph are appended to the existing list of messages.\n",
    "\n",
    "We annotate (via `Annotated`) our key with a reducer function as metadata.\n"
   ]
  },
  {
   "cell_type": "code",
   "execution_count": 16,
   "metadata": {},
   "outputs": [],
   "source": [
    "from typing import Annotated\n",
    "from langchain_core.messages import AnyMessage\n",
    "from langgraph.graph.message import add_messages\n",
    "\n",
    "class MessagesState(TypedDict):\n",
    "    messages:Annotated[list[AnyMessage],add_messages]"
   ]
  },
  {
   "cell_type": "markdown",
   "metadata": {},
   "source": [
    "### OUR graph\n",
    "lets use MessageState that we defined above with a graph"
   ]
  },
  {
   "cell_type": "code",
   "execution_count": 18,
   "metadata": {},
   "outputs": [
    {
     "data": {
      "image/png": "[encoded data removed]",
      "text/plain": [
       "<IPython.core.display.Image object>"
      ]
     },
     "metadata": {},
     "output_type": "display_data"
    }
   ],
   "source": [
    "from IPython.display import Image , display\n",
    "from langgraph.graph import START,END,StateGraph\n",
    "\n",
    "class MessagesState(MessagesState):\n",
    "    pass\n",
    "\n",
    "#Node\n",
    "def tool_calling_LLM(state:MessagesState):\n",
    "    return {\"messages\": [llm_with_tools.invoke(state[\"messages\"])]}\n",
    "\n",
    "\n",
    "builder=StateGraph(MessagesState)\n",
    "builder.add_node(\"tool_calling_llm\",tool_calling_LLM)\n",
    "builder.add_edge(START,\"tool_calling_llm\")\n",
    "builder.add_edge(\"tool_calling_llm\",END)\n",
    "graph=builder.compile()\n",
    "\n",
    "display(Image(graph.get_graph().draw_mermaid_png()))"
   ]
  },
  {
   "cell_type": "code",
   "execution_count": 19,
   "metadata": {},
   "outputs": [
    {
     "data": {
      "text/plain": [
       "{'messages': [HumanMessage(content='hello!', additional_kwargs={}, response_metadata={}, id='83b1564f-674e-4c91-a069-b199a81b1a91'),\n",
       "  AIMessage(content='Hello! How can I assist you today?', additional_kwargs={}, response_metadata={'token_usage': {'completion_tokens': 10, 'prompt_tokens': 223, 'total_tokens': 233}, 'model_name': 'ibm/granite-3-2-8b-instruct', 'system_fingerprint': '', 'finish_reason': 'stop'}, id='chatcmpl-e3c397edd3e5e795761be9521764f8fc', usage_metadata={'input_tokens': 223, 'output_tokens': 10, 'total_tokens': 233})]}"
      ]
     },
     "execution_count": 19,
     "metadata": {},
     "output_type": "execute_result"
    }
   ],
   "source": [
    "messages=graph.invoke({\"messages\":HumanMessage(content=\"hello!\")})\n",
    "messages"
   ]
  },
  {
   "cell_type": "markdown",
   "metadata": {},
   "source": [
    "### observe that our LLM responded without using any tool\n",
    "\n",
    "### Now lets give a human message , will see if LLM uses tool or no"
   ]
  },
  {
   "cell_type": "code",
   "execution_count": 20,
   "metadata": {},
   "outputs": [
    {
     "data": {
      "text/plain": [
       "{'messages': [HumanMessage(content='what is answer when 2 is multiplied by 3?', additional_kwargs={}, response_metadata={}, id='5d175714-e822-4032-8d37-f71fac3756b6'),\n",
       "  AIMessage(content='', additional_kwargs={'tool_calls': [{'id': 'chatcmpl-tool-d1ff90332c41415ca26d32eaeb648248', 'type': 'function', 'function': {'name': 'multiply', 'arguments': '{\"a\": 2, \"b\": 3}'}}]}, response_metadata={'token_usage': {'completion_tokens': 27, 'prompt_tokens': 234, 'total_tokens': 261}, 'model_name': 'ibm/granite-3-2-8b-instruct', 'system_fingerprint': '', 'finish_reason': 'tool_calls'}, id='chatcmpl-dc794d20d3135bb03d315c8c351b6c39', tool_calls=[{'name': 'multiply', 'args': {'a': 2, 'b': 3}, 'id': 'chatcmpl-tool-d1ff90332c41415ca26d32eaeb648248', 'type': 'tool_call'}], usage_metadata={'input_tokens': 234, 'output_tokens': 27, 'total_tokens': 261})]}"
      ]
     },
     "execution_count": 20,
     "metadata": {},
     "output_type": "execute_result"
    }
   ],
   "source": [
    "messages=graph.invoke({\"messages\":HumanMessage(content=\"what is answer when 2 is multiplied by 3?\")})\n",
    "messages"
   ]
  },
  {
   "cell_type": "markdown",
   "metadata": {},
   "source": [
    "### It can be seen in AIMessage that it made a tool call named \"multiply\"\n",
    "## yayy!"
   ]
  },
  {
   "cell_type": "code",
   "execution_count": 21,
   "metadata": {},
   "outputs": [
    {
     "data": {
      "text/plain": [
       "{'messages': [HumanMessage(content='how are you!', additional_kwargs={}, response_metadata={}, id='c9e26150-483b-4632-97d0-9388c3b5e693'),\n",
       "  AIMessage(content=\"I'm an artificial intelligence, so I don't have feelings, but I'm here and ready to assist you! How can I help you today?\", additional_kwargs={}, response_metadata={'token_usage': {'completion_tokens': 34, 'prompt_tokens': 225, 'total_tokens': 259}, 'model_name': 'ibm/granite-3-2-8b-instruct', 'system_fingerprint': '', 'finish_reason': 'stop'}, id='chatcmpl-3a927f4aaf2bba4619169b2396bd9592', usage_metadata={'input_tokens': 225, 'output_tokens': 34, 'total_tokens': 259})]}"
      ]
     },
     "execution_count": 21,
     "metadata": {},
     "output_type": "execute_result"
    }
   ],
   "source": [
    "messages=graph.invoke({\"messages\" : HumanMessage(content=\"how are you!\")})\n",
    "messages"
   ]
  },
  {
   "cell_type": "markdown",
   "metadata": {},
   "source": [
    "### our LLM now not using tool!"
   ]
  }
 ],
 "metadata": {
  "kernelspec": {
   "display_name": "Python 3",
   "language": "python",
   "name": "python3"
  },
  "language_info": {
   "codemirror_mode": {
    "name": "ipython",
    "version": 3
   },
   "file_extension": ".py",
   "mimetype": "text/x-python",
   "name": "python",
   "nbconvert_exporter": "python",
   "pygments_lexer": "ipython3",
   "version": "3.12.8"
  }
 },
 "nbformat": 4,
 "nbformat_minor": 2
}
